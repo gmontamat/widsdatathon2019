{
 "cells": [
  {
   "cell_type": "markdown",
   "metadata": {},
   "source": [
    "# VGG19 model\n",
    "\n",
    "## Import modules and load data from pickles"
   ]
  },
  {
   "cell_type": "code",
   "execution_count": 1,
   "metadata": {},
   "outputs": [],
   "source": [
    "import cv2\n",
    "import numpy as np\n",
    "import os\n",
    "import pandas as pd\n",
    "import pickle"
   ]
  },
  {
   "cell_type": "code",
   "execution_count": 2,
   "metadata": {},
   "outputs": [],
   "source": [
    "data_path = os.path.join(os.getcwd(), '..', 'input')"
   ]
  },
  {
   "cell_type": "code",
   "execution_count": 3,
   "metadata": {},
   "outputs": [],
   "source": [
    "height = 256\n",
    "width = 256"
   ]
  },
  {
   "cell_type": "code",
   "execution_count": 4,
   "metadata": {},
   "outputs": [],
   "source": [
    "with open(os.path.join(data_path, 'train_images_256x256.pkl'), 'rb') as fin:\n",
    "    images = pickle.load(fin)\n",
    "with open(os.path.join(data_path, 'train_responses.pkl'), 'rb') as fin:\n",
    "    responses = pickle.load(fin)"
   ]
  },
  {
   "cell_type": "markdown",
   "metadata": {},
   "source": [
    "## Normalize images"
   ]
  },
  {
   "cell_type": "code",
   "execution_count": 5,
   "metadata": {},
   "outputs": [],
   "source": [
    "# images = images / 255.\n",
    "images = images * 2. / 255. - 1."
   ]
  },
  {
   "cell_type": "markdown",
   "metadata": {},
   "source": [
    "## Define model architecture"
   ]
  },
  {
   "cell_type": "code",
   "execution_count": 6,
   "metadata": {},
   "outputs": [],
   "source": [
    "from keras import backend as K\n",
    "from keras.applications.vgg19 import VGG19\n",
    "from keras.layers import Dropout, Flatten, Dense\n",
    "from keras.models import Sequential, Model\n",
    "from keras.optimizers import SGD\n",
    "from keras.callbacks import Callback\n",
    "from sklearn.metrics import roc_auc_score"
   ]
  },
  {
   "cell_type": "code",
   "execution_count": 7,
   "metadata": {},
   "outputs": [],
   "source": [
    "class roc_callback(Callback):\n",
    "    \"\"\"Define a callback which returns train ROC AUC after each epoch.\"\"\"\n",
    "\n",
    "    def __init__(self, training_data, validation_data=None):\n",
    "        self.x = training_data[0]\n",
    "        self.y = training_data[1]\n",
    "        # self.x_val = validation_data[0]\n",
    "        # self.y_val = validation_data[1]\n",
    "\n",
    "    def on_train_begin(self, logs={}):\n",
    "        return\n",
    "\n",
    "    def on_train_end(self, logs={}):\n",
    "        return\n",
    "\n",
    "    def on_epoch_begin(self, epoch, logs={}):\n",
    "        return\n",
    "\n",
    "    def on_epoch_end(self, epoch, logs={}):\n",
    "        y_pred = self.model.predict(self.x)\n",
    "        roc = roc_auc_score(self.y, y_pred)\n",
    "        # y_pred_val = self.model.predict(self.x_val)\n",
    "        # roc_val = roc_auc_score(self.y_val, y_pred_val)\n",
    "        # print('\\rroc-auc: %s - roc-auc_val: %s' % (str(round(roc,4)),str(round(roc_val,4))),end=100*' '+'\\n')\n",
    "        print('\\rroc-auc: {}'.format(round(roc, 5)), end=80 * ' ' + '\\n')\n",
    "        return\n",
    "\n",
    "    def on_batch_begin(self, batch, logs={}):\n",
    "        return\n",
    "\n",
    "    def on_batch_end(self, batch, logs={}):\n",
    "        return"
   ]
  },
  {
   "cell_type": "code",
   "execution_count": 9,
   "metadata": {},
   "outputs": [
    {
     "name": "stdout",
     "output_type": "stream",
     "text": [
      "_________________________________________________________________\n",
      "Layer (type)                 Output Shape              Param #   \n",
      "=================================================================\n",
      "input_2 (InputLayer)         (None, 256, 256, 3)       0         \n",
      "_________________________________________________________________\n",
      "block1_conv1 (Conv2D)        (None, 256, 256, 64)      1792      \n",
      "_________________________________________________________________\n",
      "block1_conv2 (Conv2D)        (None, 256, 256, 64)      36928     \n",
      "_________________________________________________________________\n",
      "block1_pool (MaxPooling2D)   (None, 128, 128, 64)      0         \n",
      "_________________________________________________________________\n",
      "block2_conv1 (Conv2D)        (None, 128, 128, 128)     73856     \n",
      "_________________________________________________________________\n",
      "block2_conv2 (Conv2D)        (None, 128, 128, 128)     147584    \n",
      "_________________________________________________________________\n",
      "block2_pool (MaxPooling2D)   (None, 64, 64, 128)       0         \n",
      "_________________________________________________________________\n",
      "block3_conv1 (Conv2D)        (None, 64, 64, 256)       295168    \n",
      "_________________________________________________________________\n",
      "block3_conv2 (Conv2D)        (None, 64, 64, 256)       590080    \n",
      "_________________________________________________________________\n",
      "block3_conv3 (Conv2D)        (None, 64, 64, 256)       590080    \n",
      "_________________________________________________________________\n",
      "block3_conv4 (Conv2D)        (None, 64, 64, 256)       590080    \n",
      "_________________________________________________________________\n",
      "block3_pool (MaxPooling2D)   (None, 32, 32, 256)       0         \n",
      "_________________________________________________________________\n",
      "block4_conv1 (Conv2D)        (None, 32, 32, 512)       1180160   \n",
      "_________________________________________________________________\n",
      "block4_conv2 (Conv2D)        (None, 32, 32, 512)       2359808   \n",
      "_________________________________________________________________\n",
      "block4_conv3 (Conv2D)        (None, 32, 32, 512)       2359808   \n",
      "_________________________________________________________________\n",
      "block4_conv4 (Conv2D)        (None, 32, 32, 512)       2359808   \n",
      "_________________________________________________________________\n",
      "block4_pool (MaxPooling2D)   (None, 16, 16, 512)       0         \n",
      "_________________________________________________________________\n",
      "block5_conv1 (Conv2D)        (None, 16, 16, 512)       2359808   \n",
      "_________________________________________________________________\n",
      "block5_conv2 (Conv2D)        (None, 16, 16, 512)       2359808   \n",
      "_________________________________________________________________\n",
      "block5_conv3 (Conv2D)        (None, 16, 16, 512)       2359808   \n",
      "_________________________________________________________________\n",
      "block5_conv4 (Conv2D)        (None, 16, 16, 512)       2359808   \n",
      "_________________________________________________________________\n",
      "block5_pool (MaxPooling2D)   (None, 8, 8, 512)         0         \n",
      "_________________________________________________________________\n",
      "global_max_pooling2d_2 (Glob (None, 512)               0         \n",
      "_________________________________________________________________\n",
      "dense_4 (Dense)              (None, 128)               65664     \n",
      "_________________________________________________________________\n",
      "dropout_3 (Dropout)          (None, 128)               0         \n",
      "_________________________________________________________________\n",
      "dense_5 (Dense)              (None, 32)                4128      \n",
      "_________________________________________________________________\n",
      "dropout_4 (Dropout)          (None, 32)                0         \n",
      "_________________________________________________________________\n",
      "dense_6 (Dense)              (None, 1)                 33        \n",
      "=================================================================\n",
      "Total params: 20,094,209\n",
      "Trainable params: 20,094,209\n",
      "Non-trainable params: 0\n",
      "_________________________________________________________________\n"
     ]
    }
   ],
   "source": [
    "def vgg19():\n",
    "    vgg = VGG19(include_top=False, weights='imagenet', input_shape=(height, width, 3), pooling='max')\n",
    "    last = vgg.output\n",
    "    # x = Flatten()(last)\n",
    "    x = Dense(128, activation='relu')(last)\n",
    "    x = Dropout(0.5)(x)\n",
    "    x = Dense(32, activation='relu')(x)\n",
    "    x = Dropout(0.5)(x)\n",
    "    x = Dense(1, activation='sigmoid')(x)\n",
    "    return Model(inputs=[vgg.input], outputs=[x])\n",
    "\n",
    "model = vgg19()\n",
    "model.summary()"
   ]
  },
  {
   "cell_type": "code",
   "execution_count": 10,
   "metadata": {},
   "outputs": [
    {
     "name": "stdout",
     "output_type": "stream",
     "text": [
      "Epoch 1/10\n",
      "15244/15244 [==============================] - 138s 9ms/step - loss: 0.1391 - acc: 0.9496\n",
      "roc-auc: 0.99515                                                                                \n",
      "Epoch 2/10\n",
      "15244/15244 [==============================] - 132s 9ms/step - loss: 0.0597 - acc: 0.9811\n",
      "roc-auc: 0.99743                                                                                \n",
      "Epoch 3/10\n",
      "15244/15244 [==============================] - 130s 9ms/step - loss: 0.0446 - acc: 0.9848\n",
      "roc-auc: 0.99874                                                                                \n",
      "Epoch 4/10\n",
      "15244/15244 [==============================] - 130s 9ms/step - loss: 0.0374 - acc: 0.9879\n",
      "roc-auc: 0.99919                                                                                \n",
      "Epoch 5/10\n",
      "15244/15244 [==============================] - 132s 9ms/step - loss: 0.0334 - acc: 0.9898\n",
      "roc-auc: 0.9995                                                                                \n",
      "Epoch 6/10\n",
      "15244/15244 [==============================] - 132s 9ms/step - loss: 0.0276 - acc: 0.9913\n",
      "roc-auc: 0.99936                                                                                \n",
      "Epoch 7/10\n",
      "15244/15244 [==============================] - 132s 9ms/step - loss: 0.0271 - acc: 0.9919\n",
      "roc-auc: 0.99965                                                                                \n",
      "Epoch 8/10\n",
      "15244/15244 [==============================] - 131s 9ms/step - loss: 0.0211 - acc: 0.9925\n",
      "roc-auc: 0.99972                                                                                \n",
      "Epoch 9/10\n",
      "15244/15244 [==============================] - 132s 9ms/step - loss: 0.0187 - acc: 0.9939\n",
      "roc-auc: 0.99976                                                                                \n",
      "Epoch 10/10\n",
      "15244/15244 [==============================] - 131s 9ms/step - loss: 0.0202 - acc: 0.9930\n",
      "roc-auc: 0.99993                                                                                \n"
     ]
    },
    {
     "data": {
      "text/plain": [
       "<keras.callbacks.History at 0x7f5facc41908>"
      ]
     },
     "execution_count": 10,
     "metadata": {},
     "output_type": "execute_result"
    }
   ],
   "source": [
    "model.compile(loss='binary_crossentropy', optimizer=SGD(lr=1e-4, momentum=0.9), metrics=['accuracy'])\n",
    "model.fit(images, responses, batch_size=16, epochs=10, callbacks=[roc_callback(training_data=(images, responses))])"
   ]
  },
  {
   "cell_type": "code",
   "execution_count": 11,
   "metadata": {},
   "outputs": [],
   "source": [
    "model.save('vgg19_10epoch.h5')"
   ]
  },
  {
   "cell_type": "code",
   "execution_count": 12,
   "metadata": {},
   "outputs": [
    {
     "name": "stdout",
     "output_type": "stream",
     "text": [
      "Epoch 1/10\n",
      "15244/15244 [==============================] - 133s 9ms/step - loss: 0.0141 - acc: 0.9960\n",
      "roc-auc: 0.99994                                                                                \n",
      "Epoch 2/10\n",
      "15244/15244 [==============================] - 132s 9ms/step - loss: 0.0115 - acc: 0.9962\n",
      "roc-auc: 0.99995                                                                                \n",
      "Epoch 3/10\n",
      "15244/15244 [==============================] - 129s 8ms/step - loss: 0.0124 - acc: 0.9953\n",
      "roc-auc: 0.99995                                                                                \n",
      "Epoch 4/10\n",
      "15244/15244 [==============================] - 132s 9ms/step - loss: 0.0101 - acc: 0.9961\n",
      "roc-auc: 0.99996                                                                                \n",
      "Epoch 5/10\n",
      "15244/15244 [==============================] - 132s 9ms/step - loss: 0.0092 - acc: 0.9969\n",
      "roc-auc: 0.99996                                                                                \n",
      "Epoch 6/10\n",
      "15244/15244 [==============================] - 132s 9ms/step - loss: 0.0119 - acc: 0.9959\n",
      "roc-auc: 0.99997                                                                                \n",
      "Epoch 7/10\n",
      "15244/15244 [==============================] - 134s 9ms/step - loss: 0.0093 - acc: 0.9968\n",
      "roc-auc: 0.99997                                                                                \n",
      "Epoch 8/10\n",
      "15244/15244 [==============================] - 131s 9ms/step - loss: 0.0094 - acc: 0.9964\n",
      "roc-auc: 0.99998                                                                                \n",
      "Epoch 9/10\n",
      "15244/15244 [==============================] - 129s 8ms/step - loss: 0.0081 - acc: 0.9976\n",
      "roc-auc: 0.99998                                                                                \n",
      "Epoch 10/10\n",
      "15244/15244 [==============================] - 127s 8ms/step - loss: 0.0084 - acc: 0.9972\n",
      "roc-auc: 0.99999                                                                                \n"
     ]
    },
    {
     "data": {
      "text/plain": [
       "<keras.callbacks.History at 0x7f5eef0bf390>"
      ]
     },
     "execution_count": 12,
     "metadata": {},
     "output_type": "execute_result"
    }
   ],
   "source": [
    "model.compile(loss='binary_crossentropy', optimizer=SGD(lr=1e-5, momentum=0.9), metrics=['accuracy'])\n",
    "model.fit(images, responses, batch_size=16, epochs=10, callbacks=[roc_callback(training_data=(images, responses))])"
   ]
  },
  {
   "cell_type": "code",
   "execution_count": 13,
   "metadata": {},
   "outputs": [],
   "source": [
    "model.save('vgg19_20epoch.h5')"
   ]
  },
  {
   "cell_type": "code",
   "execution_count": 14,
   "metadata": {},
   "outputs": [
    {
     "name": "stdout",
     "output_type": "stream",
     "text": [
      "Epoch 1/5\n",
      "15244/15244 [==============================] - 129s 8ms/step - loss: 0.0075 - acc: 0.9973\n",
      "roc-auc: 0.99999                                                                                \n",
      "Epoch 2/5\n",
      "15244/15244 [==============================] - 128s 8ms/step - loss: 0.0076 - acc: 0.9975\n",
      "roc-auc: 0.99999                                                                                \n",
      "Epoch 3/5\n",
      "15244/15244 [==============================] - 128s 8ms/step - loss: 0.0089 - acc: 0.9968\n",
      "roc-auc: 0.99999                                                                                \n",
      "Epoch 4/5\n",
      "15244/15244 [==============================] - 128s 8ms/step - loss: 0.0089 - acc: 0.9962\n",
      "roc-auc: 0.99999                                                                                \n",
      "Epoch 5/5\n",
      "15244/15244 [==============================] - 128s 8ms/step - loss: 0.0071 - acc: 0.9971\n",
      "roc-auc: 0.99999                                                                                \n"
     ]
    },
    {
     "data": {
      "text/plain": [
       "<keras.callbacks.History at 0x7f5eed1eecc0>"
      ]
     },
     "execution_count": 14,
     "metadata": {},
     "output_type": "execute_result"
    }
   ],
   "source": [
    "model.compile(loss='binary_crossentropy', optimizer=SGD(lr=1e-6, momentum=0.9), metrics=['accuracy'])\n",
    "model.fit(images, responses, batch_size=16, epochs=5, callbacks=[roc_callback(training_data=(images, responses))])"
   ]
  },
  {
   "cell_type": "code",
   "execution_count": 15,
   "metadata": {},
   "outputs": [],
   "source": [
    "model.save('vgg19_25epoch.h5')"
   ]
  },
  {
   "cell_type": "markdown",
   "metadata": {},
   "source": [
    "## Load test set and predict"
   ]
  },
  {
   "cell_type": "code",
   "execution_count": 16,
   "metadata": {},
   "outputs": [],
   "source": [
    "def img_as_array(image_id, size=None, image_set='train_images'):\n",
    "    image_path = os.path.join(data_path, image_set, image_id)\n",
    "    img = cv2.imread(str(image_path))\n",
    "    if size is None:\n",
    "        return img\n",
    "    return cv2.resize(img, size)"
   ]
  },
  {
   "cell_type": "code",
   "execution_count": 17,
   "metadata": {},
   "outputs": [],
   "source": [
    "test_dir = 'leaderboard_test_data'\n",
    "holdout_dir = 'leaderboard_holdout_data'"
   ]
  },
  {
   "cell_type": "code",
   "execution_count": 18,
   "metadata": {},
   "outputs": [],
   "source": [
    "test_images = []\n",
    "test_ids = []\n",
    "for image_id in os.listdir(os.path.join(data_path, test_dir)):\n",
    "    img = img_as_array(image_id, image_set=test_dir)\n",
    "    test_images.append(img.reshape(1, height, width, 3))\n",
    "    test_ids.append(image_id)\n",
    "for image_id in os.listdir(os.path.join(data_path, holdout_dir)):\n",
    "    img = img_as_array(image_id, image_set=holdout_dir)\n",
    "    test_images.append(img.reshape(1, height, width, 3))\n",
    "    test_ids.append(image_id)\n",
    "test_images = np.concatenate(test_images, axis=0)"
   ]
  },
  {
   "cell_type": "code",
   "execution_count": 19,
   "metadata": {},
   "outputs": [],
   "source": [
    "# test_images = test_images / 255.\n",
    "test_images = test_images * 2. / 255. - 1."
   ]
  },
  {
   "cell_type": "code",
   "execution_count": 20,
   "metadata": {},
   "outputs": [],
   "source": [
    "predictions = model.predict(test_images)"
   ]
  },
  {
   "cell_type": "code",
   "execution_count": 21,
   "metadata": {},
   "outputs": [],
   "source": [
    "predictions = predictions.squeeze().tolist()"
   ]
  },
  {
   "cell_type": "code",
   "execution_count": 22,
   "metadata": {},
   "outputs": [],
   "source": [
    "with open('submission.csv','w') as fout:\n",
    "    fout.write(\"image_id,has_oilpalm\\n\")\n",
    "    for image_id, has_oilpalm in zip(test_ids, predictions):\n",
    "        fout.write(\"{},{}\\n\".format(image_id, has_oilpalm))"
   ]
  }
 ],
 "metadata": {
  "kernelspec": {
   "display_name": "Python 3",
   "language": "python",
   "name": "python3"
  },
  "language_info": {
   "codemirror_mode": {
    "name": "ipython",
    "version": 3
   },
   "file_extension": ".py",
   "mimetype": "text/x-python",
   "name": "python",
   "nbconvert_exporter": "python",
   "pygments_lexer": "ipython3",
   "version": "3.6.8"
  }
 },
 "nbformat": 4,
 "nbformat_minor": 2
}
