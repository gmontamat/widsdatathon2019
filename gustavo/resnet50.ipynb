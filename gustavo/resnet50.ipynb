{
 "cells": [
  {
   "cell_type": "markdown",
   "metadata": {},
   "source": [
    "# ResNet50 model\n",
    "\n",
    "## Import modules and load data from pickles"
   ]
  },
  {
   "cell_type": "code",
   "execution_count": null,
   "metadata": {},
   "outputs": [],
   "source": [
    "import cv2\n",
    "import numpy as np\n",
    "import os\n",
    "import pandas as pd\n",
    "import pickle\n",
    "\n",
    "from keras.applications.resnet50 import ResNet50, preprocess_input\n",
    "from keras.callbacks import Callback\n",
    "from keras.layers import Dropout, Flatten, Dense, GlobalAveragePooling2D\n",
    "from keras.models import Model, load_model\n",
    "from keras.optimizers import SGD\n",
    "from sklearn.metrics import roc_auc_score"
   ]
  },
  {
   "cell_type": "code",
   "execution_count": null,
   "metadata": {},
   "outputs": [],
   "source": [
    "data_path = os.path.join(os.getcwd(), '..', 'input')"
   ]
  },
  {
   "cell_type": "code",
   "execution_count": null,
   "metadata": {},
   "outputs": [],
   "source": [
    "height = 256\n",
    "width = 256"
   ]
  },
  {
   "cell_type": "code",
   "execution_count": null,
   "metadata": {},
   "outputs": [],
   "source": [
    "with open(os.path.join(data_path, 'train_images_256x256.pkl'), 'rb') as fin:\n",
    "    train_images = pickle.load(fin)\n",
    "with open(os.path.join(data_path, 'train_responses.pkl'), 'rb') as fin:\n",
    "    train_responses = pickle.load(fin)\n",
    "with open(os.path.join(data_path, 'augmented_images_256x256.pkl'), 'rb') as fin:\n",
    "    augmented_images = pickle.load(fin)\n",
    "with open(os.path.join(data_path, 'augmented_responses.pkl'), 'rb') as fin:\n",
    "    augmented_responses = pickle.load(fin)"
   ]
  },
  {
   "cell_type": "code",
   "execution_count": null,
   "metadata": {},
   "outputs": [],
   "source": [
    "images = np.concatenate([train_images, augmented_images], axis=0)\n",
    "responses = np.concatenate([train_responses, augmented_responses], axis=0)\n",
    "del train_images\n",
    "del augmented_images\n",
    "del train_responses\n",
    "del augmented_responses"
   ]
  },
  {
   "cell_type": "code",
   "execution_count": null,
   "metadata": {},
   "outputs": [],
   "source": [
    "# Shuffle data\n",
    "permutation = np.random.permutation(images.shape[0])\n",
    "images = images[permutation, :, :, :]\n",
    "responses = responses[permutation, :]"
   ]
  },
  {
   "cell_type": "code",
   "execution_count": null,
   "metadata": {},
   "outputs": [],
   "source": [
    "# with open(os.path.join(data_path, 'train_images_256x256.pkl'), 'rb') as fin:\n",
    "#     images = pickle.load(fin)\n",
    "# with open(os.path.join(data_path, 'train_responses.pkl'), 'rb') as fin:\n",
    "#     responses = pickle.load(fin)"
   ]
  },
  {
   "cell_type": "markdown",
   "metadata": {},
   "source": [
    "## Normalize images"
   ]
  },
  {
   "cell_type": "code",
   "execution_count": null,
   "metadata": {},
   "outputs": [],
   "source": [
    "# images = images / 255.\n",
    "# images = images * 2. / 255. - 1.\n",
    "images = preprocess_input(images)"
   ]
  },
  {
   "cell_type": "markdown",
   "metadata": {},
   "source": [
    "## Define model architecture"
   ]
  },
  {
   "cell_type": "code",
   "execution_count": null,
   "metadata": {},
   "outputs": [],
   "source": [
    "class roc_callback(Callback):\n",
    "    \"\"\"Define a callback which returns train ROC AUC after each epoch.\"\"\"\n",
    "\n",
    "    def __init__(self, training_data, validation_data=None):\n",
    "        self.x = training_data[0]\n",
    "        self.y = training_data[1]\n",
    "        # self.x_val = validation_data[0]\n",
    "        # self.y_val = validation_data[1]\n",
    "\n",
    "    def on_train_begin(self, logs={}):\n",
    "        return\n",
    "\n",
    "    def on_train_end(self, logs={}):\n",
    "        return\n",
    "\n",
    "    def on_epoch_begin(self, epoch, logs={}):\n",
    "        return\n",
    "\n",
    "    def on_epoch_end(self, epoch, logs={}):\n",
    "        y_pred = self.model.predict(self.x)\n",
    "        roc = roc_auc_score(self.y, y_pred)\n",
    "        # y_pred_val = self.model.predict(self.x_val)\n",
    "        # roc_val = roc_auc_score(self.y_val, y_pred_val)\n",
    "        # print('\\rroc-auc: %s - roc-auc_val: %s' % (str(round(roc,4)),str(round(roc_val,4))),end=100*' '+'\\n')\n",
    "        print('\\rroc-auc: {}'.format(round(roc, 5)), end=80 * ' ' + '\\n')\n",
    "        return\n",
    "\n",
    "    def on_batch_begin(self, batch, logs={}):\n",
    "        return\n",
    "\n",
    "    def on_batch_end(self, batch, logs={}):\n",
    "        return"
   ]
  },
  {
   "cell_type": "code",
   "execution_count": null,
   "metadata": {},
   "outputs": [],
   "source": [
    "def resnet50():\n",
    "    resnet = ResNet50(include_top=False, weights='imagenet', input_shape=(height, width, 3), pooling='avg')\n",
    "    last = resnet.output\n",
    "    # x = Flatten()(last)\n",
    "    # x = GlobalAveragePooling2D()(last)\n",
    "    # x = Dropout(0.5)(last)\n",
    "    # x = Dense(32, activation='relu')(x)\n",
    "    x = Dense(1, activation='sigmoid')(x)\n",
    "    return Model(inputs=[resnet.input], outputs=[x])\n",
    "\n",
    "model = resnet50()\n",
    "model.summary()"
   ]
  },
  {
   "cell_type": "code",
   "execution_count": null,
   "metadata": {},
   "outputs": [],
   "source": [
    "model.compile(\n",
    "    loss='binary_crossentropy',\n",
    "    optimizer=SGD(lr=1e-3, decay=1e-6, momentum=0.9, nesterov=True),\n",
    "    metrics=['accuracy']\n",
    ")\n",
    "model.fit(images, responses, batch_size=16, epochs=20, callbacks=[roc_callback(training_data=(images, responses))])"
   ]
  },
  {
   "cell_type": "markdown",
   "metadata": {},
   "source": [
    "## Load test set and predict"
   ]
  },
  {
   "cell_type": "code",
   "execution_count": null,
   "metadata": {},
   "outputs": [],
   "source": [
    "def img_as_array(image_id, size=None, image_set='train_images'):\n",
    "    image_path = os.path.join(data_path, image_set, image_id)\n",
    "    img = cv2.imread(str(image_path))\n",
    "    if size is None:\n",
    "        return img\n",
    "    return cv2.resize(img, size)"
   ]
  },
  {
   "cell_type": "code",
   "execution_count": null,
   "metadata": {},
   "outputs": [],
   "source": [
    "test_dir = 'leaderboard_test_data'\n",
    "holdout_dir = 'leaderboard_holdout_data'"
   ]
  },
  {
   "cell_type": "code",
   "execution_count": null,
   "metadata": {},
   "outputs": [],
   "source": [
    "test_images = []\n",
    "test_ids = []\n",
    "for image_id in os.listdir(os.path.join(data_path, test_dir)):\n",
    "    img = img_as_array(image_id, image_set=test_dir)\n",
    "    test_images.append(img.reshape(1, height, width, 3))\n",
    "    test_ids.append(image_id)\n",
    "for image_id in os.listdir(os.path.join(data_path, holdout_dir)):\n",
    "    img = img_as_array(image_id, image_set=holdout_dir)\n",
    "    test_images.append(img.reshape(1, height, width, 3))\n",
    "    test_ids.append(image_id)\n",
    "test_images = np.concatenate(test_images, axis=0)"
   ]
  },
  {
   "cell_type": "code",
   "execution_count": null,
   "metadata": {},
   "outputs": [],
   "source": [
    "# test_images = test_images / 255.\n",
    "# test_images = test_images * 2. / 255. - 1.\n",
    "test_images = preprocess_input(test_images)"
   ]
  },
  {
   "cell_type": "code",
   "execution_count": null,
   "metadata": {},
   "outputs": [],
   "source": [
    "predictions = model.predict(test_images)"
   ]
  },
  {
   "cell_type": "code",
   "execution_count": null,
   "metadata": {},
   "outputs": [],
   "source": [
    "predictions = predictions.squeeze().tolist()"
   ]
  },
  {
   "cell_type": "code",
   "execution_count": null,
   "metadata": {},
   "outputs": [],
   "source": [
    "submission = pd.DataFrame({\n",
    "    'image_id': test_ids,\n",
    "    'has_oilpalm': predictions\n",
    "}).sort_values('image_id')"
   ]
  },
  {
   "cell_type": "code",
   "execution_count": null,
   "metadata": {},
   "outputs": [],
   "source": [
    "submission.to_csv('submission.csv', index=False)"
   ]
  },
  {
   "cell_type": "code",
   "execution_count": null,
   "metadata": {},
   "outputs": [],
   "source": [
    "# with open('submission.csv','w') as fout:\n",
    "#     fout.write(\"image_id,has_oilpalm\\n\")\n",
    "#     for image_id, has_oilpalm in zip(test_ids, predictions):\n",
    "#         fout.write(\"{},{}\\n\".format(image_id, has_oilpalm))"
   ]
  }
 ],
 "metadata": {
  "kernelspec": {
   "display_name": "Python 3",
   "language": "python",
   "name": "python3"
  },
  "language_info": {
   "codemirror_mode": {
    "name": "ipython",
    "version": 3
   },
   "file_extension": ".py",
   "mimetype": "text/x-python",
   "name": "python",
   "nbconvert_exporter": "python",
   "pygments_lexer": "ipython3",
   "version": "3.6.8"
  }
 },
 "nbformat": 4,
 "nbformat_minor": 2
}
