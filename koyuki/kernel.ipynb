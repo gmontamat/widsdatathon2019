{
  "cells": [
    {
      "metadata": {
        "_uuid": "8f2839f25d086af736a60e9eeb907d3b93b6e0e5",
        "_cell_guid": "b1076dfc-b9ad-4769-8c92-a6c4dae69d19",
        "trusted": true
      },
      "cell_type": "code",
      "source": "# This Python 3 environment comes with many helpful analytics libraries installed\n# It is defined by the kaggle/python docker image: https://github.com/kaggle/docker-python\n# For example, here's several helpful packages to load in \n\nimport numpy as np # linear algebra\nimport pandas as pd # data processing, CSV file I/O (e.g. pd.read_csv)\n\n# Input data files are available in the \"../input/\" directory.\n# For example, running this (by clicking run or pressing Shift+Enter) will list the files in the input directory\n\nimport os\nprint(os.listdir(\"../input\"))\n\n\n\n# Any results you write to the current directory are saved as output.",
      "execution_count": null,
      "outputs": []
    },
    {
      "metadata": {
        "_cell_guid": "79c7e3d0-c299-4dcb-8224-4455121ee9b0",
        "_uuid": "d629ff2d2480ee46fbb7e2d37f6b5fab8052498a",
        "trusted": true
      },
      "cell_type": "code",
      "source": "import os\nimport pandas as pd  \nfrom matplotlib import pyplot as plt \nimport cv2\nfrom sklearn.metrics import roc_auc_score, classification_report \nfrom pathlib import Path\n%matplotlib inline ",
      "execution_count": null,
      "outputs": []
    },
    {
      "metadata": {
        "trusted": true,
        "_uuid": "091ded48987d03c3ffc88b6fc16d46b7118c1050"
      },
      "cell_type": "code",
      "source": "import fastai\nfrom fastai.vision import *",
      "execution_count": null,
      "outputs": []
    },
    {
      "metadata": {
        "trusted": true,
        "_uuid": "eb008948c96b574d51e11069b2e87f0d96d69efb"
      },
      "cell_type": "code",
      "source": "work_dir = Path('/kaggle/working/')\npath = Path('../input') \n\n\ntrain = path/'train_images/train_images'\ntest =  path/'leaderboard_test_data/leaderboard_test_data'\nholdout = path/'leaderboard_holdout_data/leaderboard_holdout_data/'\nsample_sub = path/'SampleSubmission.csv'\nlabels = path/'traininglabels.csv'\n\ndf = pd.read_csv(labels)\ndf_sample = pd.read_csv(sample_sub) \n",
      "execution_count": null,
      "outputs": []
    },
    {
      "metadata": {
        "trusted": true,
        "_uuid": "d5961e76b23e247aa5818db921bdcb3dbfc40ae2"
      },
      "cell_type": "code",
      "source": "df.head(2)",
      "execution_count": null,
      "outputs": []
    },
    {
      "metadata": {
        "trusted": true,
        "_uuid": "d895bf9b6ddb5591efb2796c85a69f3179287f3b"
      },
      "cell_type": "code",
      "source": "df.has_oilpalm.hist()  #imbalanced  ",
      "execution_count": null,
      "outputs": []
    },
    {
      "metadata": {
        "trusted": true,
        "_uuid": "70fe9b3b4975be654e1fec14ff6e87fad4cb4eac"
      },
      "cell_type": "code",
      "source": "test_names = [f for f in test.iterdir()]\nholdout_names = [f for f in holdout.iterdir()]",
      "execution_count": null,
      "outputs": []
    },
    {
      "metadata": {
        "trusted": true,
        "_uuid": "ab6bc86d186f63db8dfca37da75b598cc97666eb"
      },
      "cell_type": "code",
      "source": "#read imgs: \nsrc = (ImageItemList.from_df(df, path, folder=train)\n      .random_split_by_pct(0.2, seed=2019)\n      .label_from_df('has_oilpalm')\n      .add_test(test_names+holdout_names)) \n",
      "execution_count": null,
      "outputs": []
    },
    {
      "metadata": {
        "trusted": true,
        "_uuid": "4199b48856ac1531b92c041096fdffdb6a529867"
      },
      "cell_type": "code",
      "source": "data =  (src.transform(get_transforms(), size=128)  #256 isn't working  \n         .databunch(bs=64)\n         .normalize(imagenet_stats))",
      "execution_count": null,
      "outputs": []
    },
    {
      "metadata": {
        "trusted": true,
        "_uuid": "4f0085a194b00a7e0de6c927d0335b20cf4b3fbe"
      },
      "cell_type": "code",
      "source": "#data.show_batch(2, figsize=(10,7)) ",
      "execution_count": null,
      "outputs": []
    },
    {
      "metadata": {
        "trusted": true,
        "_uuid": "dc76d5936cacf699132dfe0be38b82ad6c6ec16b"
      },
      "cell_type": "code",
      "source": "#!wget https://download.pytorch.org/models/vgg19-dcbb9e9d.pth ",
      "execution_count": null,
      "outputs": []
    },
    {
      "metadata": {
        "trusted": true,
        "_uuid": "2fe45fa00a4796417895f19be88919abd08d2374"
      },
      "cell_type": "code",
      "source": "import torch \nimport torchvision.models as models\nfrom torch.utils.data import DataLoader, Dataset \n\nlearn = create_cnn(data, models.resnet18, \n                   metrics=[accuracy],  \n                   model_dir='/kaggle/working/models')",
      "execution_count": null,
      "outputs": []
    },
    {
      "metadata": {
        "trusted": true,
        "_uuid": "75b4f12ee8da5c67068de2d8b125fbe2d0240ec4"
      },
      "cell_type": "code",
      "source": "lr = 1e-2 ",
      "execution_count": null,
      "outputs": []
    },
    {
      "metadata": {
        "trusted": true,
        "_uuid": "fcede3577b9875dbc7d35466646f1a5a06eedfda"
      },
      "cell_type": "code",
      "source": "learn.fit_one_cycle(3, lr)  \np,t = learn.get_preds()\nprint (classification_report(list(t), list(np.argmax(p, 1) )))",
      "execution_count": null,
      "outputs": []
    },
    {
      "metadata": {
        "trusted": true,
        "_uuid": "743e864d4b04096649d3b938a7df3898fbd200ed"
      },
      "cell_type": "code",
      "source": "# Vgg16_bn  ",
      "execution_count": null,
      "outputs": []
    },
    {
      "metadata": {
        "trusted": true,
        "_uuid": "d503d9f032c5565c33a1c1d76c1013d7925a3278"
      },
      "cell_type": "code",
      "source": "learn2 = create_cnn(data, models.vgg16_bn, \n                   metrics=[accuracy],  \n                   model_dir='/kaggle/working/models')",
      "execution_count": null,
      "outputs": []
    },
    {
      "metadata": {
        "trusted": true,
        "_uuid": "82aea6ff469dcb72d562aabe3b95d860b340a247"
      },
      "cell_type": "code",
      "source": "learn2.fit_one_cycle(3, lr)  ",
      "execution_count": null,
      "outputs": []
    },
    {
      "metadata": {
        "trusted": true,
        "_uuid": "e262977e7f49744c013d5609d29c2db46a52b5c0"
      },
      "cell_type": "code",
      "source": "p,t = learn2.get_preds()\nprint (classification_report(list(t), list(np.argmax(p, 1) ))) ",
      "execution_count": null,
      "outputs": []
    },
    {
      "metadata": {
        "trusted": true,
        "_uuid": "46a75fb12c0e5c871ef02f82ea50965b2e06f65a"
      },
      "cell_type": "code",
      "source": "from sklearn.metrics import auc",
      "execution_count": null,
      "outputs": []
    },
    {
      "metadata": {
        "trusted": true,
        "_uuid": "bf167474b0582ccf69bec7f352c0a76c077e367a"
      },
      "cell_type": "code",
      "source": "## vgg19_bn \nlearn3 = create_cnn(data, models.vgg19_bn, \n                   metrics=[accuracy],  \n                   model_dir='/kaggle/working/models')",
      "execution_count": null,
      "outputs": []
    },
    {
      "metadata": {
        "trusted": true,
        "_uuid": "aa65bc9655c4aebd16a67d8b23ccc9a071c129ee"
      },
      "cell_type": "code",
      "source": "learn3.fit_one_cycle(3, lr) \np,t = learn3.get_preds()\nprint (classification_report(list(t), list(np.argmax(p, 1) ))) ",
      "execution_count": null,
      "outputs": []
    },
    {
      "metadata": {
        "trusted": true,
        "_uuid": "0c79fdb67e383eec318a752a11d1cf438908204d"
      },
      "cell_type": "code",
      "source": "#resnet152\nlearn4 = create_cnn(data, models.resnet152, \n                   metrics=[accuracy],  \n                   model_dir='/kaggle/working/models')",
      "execution_count": null,
      "outputs": []
    },
    {
      "metadata": {
        "trusted": true,
        "_uuid": "2a7574947639848fd2880327e47c8f33d9ba4f59"
      },
      "cell_type": "code",
      "source": "learn4.fit_one_cycle(3, lr) \np,t = learn4.get_preds()\nprint (classification_report(list(t), list(np.argmax(p, 1) ))) ",
      "execution_count": null,
      "outputs": []
    },
    {
      "metadata": {
        "trusted": true,
        "_uuid": "8dca9c66e3e49824887f4f2477ed43ef74bf8b4e"
      },
      "cell_type": "code",
      "source": "df.head(3)",
      "execution_count": null,
      "outputs": []
    },
    {
      "metadata": {
        "trusted": true,
        "_uuid": "574714cfcea5ef67bc22dd6fc92ec9379f17f4da"
      },
      "cell_type": "code",
      "source": "## keras  \nfrom PIL import Image\nimport cv2\nfrom subprocess import check_output \nfrom sklearn.model_selection  import train_test_split \n\nimport csv\nimport time\n\ntrain='../input/train_images/train_images'\n\ndef img_as_array(image_id, new_img_size):\n    imagepath = train + '/' + str(image_id) \n    img = cv2.imread(imagepath)\n    resized_image = cv2.resize(img, new_img_size)\n    #avg = averages(resized_image,new_img_size)\n    \n    return resized_image \n\ndef averages(arr,img_size):\n    img = np.reshape(arr,(img_size[0],img_size[1],3))\n    uAvg = np.average(img,axis=0).tolist()\n    vAvg = np.average(img,axis=1).tolist()\n    wAvg = np.average(img,axis=2).tolist()\n    \n    out = []\n    for x in uAvg+vAvg+wAvg:\n        out += x\n    return np.array(out)\n        \n\nimg_size  = (64,64)\nimgs_per_loc = 1 \narr_size = 3*img_size[0]*img_size[1] \n\nX = []\ny = []\n\nprint('\\tReading data...')\nfor row in df.itertuples():\n    image_id2 = row[1]\n    y.append(row[2])\n    #print (image_id2)\n    img2= img_as_array(image_id2, img_size) \n    X.append(img2)  \n    \nX = np.array(X)\ny = np.array(y) \n\n\nX_train, X_test, y_train, y_test= train_test_split(X, y, stratify=y)",
      "execution_count": null,
      "outputs": []
    },
    {
      "metadata": {
        "trusted": true,
        "_uuid": "4cb5e16c1c8bffa4c1eb1cd04fe0f9f9ddebddbe"
      },
      "cell_type": "code",
      "source": "from imblearn.over_sampling import SMOTE\nsm = SMOTE(random_state=2)\nX_train_res, y_train_res = sm.fit_sample(np.array(X_train.reshape(11433, 12288)), np.array(y_train)) ",
      "execution_count": null,
      "outputs": []
    },
    {
      "metadata": {
        "trusted": true,
        "_uuid": "a76560e44a1b6b9757c79a7257e2f3c6fb7885eb"
      },
      "cell_type": "code",
      "source": "X_train_res.shape, y_train_res.shape",
      "execution_count": null,
      "outputs": []
    },
    {
      "metadata": {
        "trusted": true,
        "_uuid": "57b592887ab88d7a222ff4e2ead2e68527d3c7df"
      },
      "cell_type": "code",
      "source": "X_train_res=X_train_res.reshape(21452, 64, 64, 3)",
      "execution_count": null,
      "outputs": []
    },
    {
      "metadata": {
        "trusted": true,
        "_uuid": "ec01b026346901abdbf2cb1c756662e82ed1855f"
      },
      "cell_type": "code",
      "source": "X_train.shape, X_train_res.shape, X_test.shape,  y_train.shape, y_train_res.shape, y_test.shape",
      "execution_count": null,
      "outputs": []
    },
    {
      "metadata": {
        "trusted": true,
        "_uuid": "c05a11d955a86bdc501dee2c7171d83b8a5f1c19"
      },
      "cell_type": "code",
      "source": "np.bincount(y_train), np.bincount(y_train_res) , np.bincount(y_test) ",
      "execution_count": null,
      "outputs": []
    },
    {
      "metadata": {
        "trusted": true,
        "_uuid": "5ff187e31255808967e87028668f272459e335f9"
      },
      "cell_type": "code",
      "source": "from keras.preprocessing.image import ImageDataGenerator\nfrom keras.models import Sequential\nfrom keras.layers import Activation, Dropout, Flatten, Dense\nfrom keras.preprocessing.image import ImageDataGenerator\nfrom keras.layers import Convolution2D, MaxPooling2D, ZeroPadding2D\nfrom keras import optimizers\nfrom keras import applications\nfrom keras.models import Model\n\nimg_width, img_height = 64, 64 \n\nmodel = Sequential()\n\n\nmodel.add(Convolution2D(32, (3, 3), input_shape=(img_width, img_height,3)))\nmodel.add(Activation('relu'))\nmodel.add(MaxPooling2D(pool_size=(2, 2)))\n\nmodel.add(Convolution2D(32, (3, 3)))\nmodel.add(Activation('relu'))\nmodel.add(MaxPooling2D(pool_size=(2, 2)))\n\nmodel.add(Convolution2D(64, (1, 1)))\nmodel.add(Activation('relu'))\nmodel.add(MaxPooling2D(pool_size=(1, 1), dim_ordering=\"tf\"))\n\nmodel.add(Convolution2D(64, (1, 1)))\nmodel.add(Activation('relu'))\nmodel.add(MaxPooling2D(pool_size=(1, 1), dim_ordering=\"tf\"))\n\nmodel.add(Convolution2D(64, (3, 3)))\nmodel.add(Activation('relu'))\nmodel.add(MaxPooling2D(pool_size=(2, 2)))\n\nmodel.add(Flatten())\nmodel.add(Dense(64))\nmodel.add(Activation('relu'))\nmodel.add(Dropout(0.4))\nmodel.add(Dense(1))\nmodel.add(Activation('sigmoid'))\n\n\nbsize = 32\n\nmodel.compile(loss='binary_crossentropy',\n              optimizer='sgd', #'rmsprop' \n              metrics=['accuracy'])\n\n#class_weight ={0: 1, 1:10}\n\n\n#history = model.fit_generator(foo,steps_per_epoch=len((X_train)) / bsize, validation_data=(np.array(X_test),np.array(y_test)),verbose=1,epochs=40)\nhistory = model.fit(np.array(X_train_res), np.array(y_train_res),validation_data=(np.array(X_test),np.array(y_test)) ,batch_size=bsize,epochs=10)",
      "execution_count": null,
      "outputs": []
    },
    {
      "metadata": {
        "trusted": true,
        "_uuid": "de6de45759e4a7b19253d407142c9cf86cf71946"
      },
      "cell_type": "code",
      "source": "y_pred= model.predict_classes(X_test)\ny_pred=y_pred.reshape(-1) ",
      "execution_count": null,
      "outputs": []
    },
    {
      "metadata": {
        "trusted": true,
        "_uuid": "0b37e2fee8da5255876d14aecc1b8f3823cec6df"
      },
      "cell_type": "code",
      "source": "print (classification_report(y_test, y_pred))",
      "execution_count": null,
      "outputs": []
    },
    {
      "metadata": {
        "trusted": true,
        "_uuid": "10c2aba92eb42da202b2d85368514e35bd59e6e8"
      },
      "cell_type": "code",
      "source": "model.evaluate(np.array(X_test),np.array(y_test)) ",
      "execution_count": null,
      "outputs": []
    },
    {
      "metadata": {
        "trusted": true,
        "_uuid": "b035853ecc50f3e6be39e1e0916b7b3b230adf4d"
      },
      "cell_type": "code",
      "source": "from  sklearn.metrics import confusion_matrix \nconfusion_matrix(y_test, y_pred) ",
      "execution_count": null,
      "outputs": []
    },
    {
      "metadata": {
        "trusted": true,
        "_uuid": "39330595bd0b045fca51f33603ff5d0d30ede68a"
      },
      "cell_type": "code",
      "source": "",
      "execution_count": null,
      "outputs": []
    },
    {
      "metadata": {
        "trusted": true,
        "_uuid": "6807baf493141e76d0c907ca8240b2e2d8b582fb"
      },
      "cell_type": "code",
      "source": "## keras vgg16",
      "execution_count": null,
      "outputs": []
    },
    {
      "metadata": {
        "trusted": true,
        "_uuid": "7ae0c337a31435029639be26fa5f137559be23ee"
      },
      "cell_type": "code",
      "source": "",
      "execution_count": null,
      "outputs": []
    },
    {
      "metadata": {
        "trusted": true,
        "_uuid": "ce6ba8dc40966b6c5c9c02ebda5848c0986e0b38"
      },
      "cell_type": "code",
      "source": "",
      "execution_count": null,
      "outputs": []
    },
    {
      "metadata": {
        "trusted": true,
        "_uuid": "3b90543c0dc66163423040e2d1c58f83b85a4720"
      },
      "cell_type": "code",
      "source": "",
      "execution_count": null,
      "outputs": []
    },
    {
      "metadata": {
        "trusted": true,
        "_uuid": "852302d5fee980fd781025ffc71862afc0bbb724"
      },
      "cell_type": "code",
      "source": "## Submission",
      "execution_count": null,
      "outputs": []
    },
    {
      "metadata": {
        "trusted": true,
        "_uuid": "389266b0a2c8243fa13225e3635932d04a3d6d4c"
      },
      "cell_type": "code",
      "source": "p,t = learn.get_preds(ds_type=DatasetType.Test)  ",
      "execution_count": null,
      "outputs": []
    },
    {
      "metadata": {
        "trusted": true,
        "_uuid": "e786d98226863b405aa4b40b4fdf7f91ce405ac0"
      },
      "cell_type": "code",
      "source": "p = np.array(p)\nids = np.array([f.name for f in (test_names+holdout_names)]) \ndf_sub_fastai=pd.concat([pd.DataFrame(ids), pd.DataFrame(p[:, 1])], axis=1  )\ndf_sub_fastai.columns= df_sample.columns ",
      "execution_count": null,
      "outputs": []
    },
    {
      "metadata": {
        "trusted": true,
        "_uuid": "162f7ec5c8f0edd77aa0ec685b0c533280408835"
      },
      "cell_type": "code",
      "source": "df_sub_fastai[df_sub_fastai.has_oilpalm>0.5].shape,  df_sub_fastai[df_sub_fastai.has_oilpalm<=0.5].shape",
      "execution_count": null,
      "outputs": []
    },
    {
      "metadata": {
        "trusted": true,
        "_uuid": "290c873e71b1216a494c96648d3dac0407a97d1c"
      },
      "cell_type": "code",
      "source": "df_sub_fastai.to_csv(work_dir/'sub_fastai.csv', index=False)",
      "execution_count": null,
      "outputs": []
    },
    {
      "metadata": {
        "trusted": true,
        "_uuid": "58e49768f50c4b9be08d7cfb10b8ae73451e44fe"
      },
      "cell_type": "code",
      "source": "labels=np.argmax(p, 1)\ndf_sub_fastai2=pd.concat([pd.DataFrame(ids), pd.DataFrame(labels)], axis=1  )\ndf_sub_fastai2.columns= df_sample.columns ",
      "execution_count": null,
      "outputs": []
    },
    {
      "metadata": {
        "trusted": true,
        "_uuid": "51f2df4510fc7a1e2439159969ef227aa6b8830a"
      },
      "cell_type": "code",
      "source": "np.bincount(df_sub_fastai2.has_oilpalm) ",
      "execution_count": null,
      "outputs": []
    },
    {
      "metadata": {
        "trusted": true,
        "_uuid": "bca3e2ab1806a43fc9e50c80f4ba23efd87a93a9"
      },
      "cell_type": "code",
      "source": "os.listdir(work_dir) ",
      "execution_count": null,
      "outputs": []
    },
    {
      "metadata": {
        "trusted": true,
        "_uuid": "73b428fdd8b9356cfde2c01408a7da995e098b36"
      },
      "cell_type": "code",
      "source": "from IPython.display import HTML\nimport base64\ndef create_download_link(df, title = \"Download CSV file\", filename = \"data.csv\"):  \n    csv = df.to_csv()\n    b64 = base64.b64encode(csv.encode())\n    payload = b64.decode()\n    html = '<a download=\"{filename}\" href=\"data:text/csv;base64,{payload}\" target=\"_blank\">{title}</a>'\n    html = html.format(payload=payload,title=title,filename=filename)\n    return HTML(html)\n\ncreate_download_link(df_sub_fastai)",
      "execution_count": null,
      "outputs": []
    },
    {
      "metadata": {
        "trusted": true,
        "_uuid": "b35877d779054c68d653a761dd6800b37b347ea2"
      },
      "cell_type": "code",
      "source": "create_download_link(df_sub_fastai2)",
      "execution_count": null,
      "outputs": []
    },
    {
      "metadata": {
        "trusted": true,
        "_uuid": "04dc440098bc907016a1e8261c60c2eb868c705e"
      },
      "cell_type": "code",
      "source": "df_sub_fastai.head(2)",
      "execution_count": null,
      "outputs": []
    },
    {
      "metadata": {
        "trusted": true,
        "_uuid": "9c4f54cbb366b7658ba3975646fe9cbb01995efe"
      },
      "cell_type": "code",
      "source": "",
      "execution_count": null,
      "outputs": []
    }
  ],
  "metadata": {
    "kernelspec": {
      "display_name": "Python 3",
      "language": "python",
      "name": "python3"
    },
    "language_info": {
      "name": "python",
      "version": "3.6.6",
      "mimetype": "text/x-python",
      "codemirror_mode": {
        "name": "ipython",
        "version": 3
      },
      "pygments_lexer": "ipython3",
      "nbconvert_exporter": "python",
      "file_extension": ".py"
    }
  },
  "nbformat": 4,
  "nbformat_minor": 1
}